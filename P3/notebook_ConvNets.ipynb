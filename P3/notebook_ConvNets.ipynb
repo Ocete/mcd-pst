{
 "cells": [
  {
   "cell_type": "markdown",
   "metadata": {},
   "source": [
    "# Notebook: Convolutional Neural Networks\n",
    "\n",
    "In this notebook, we present the **Convolutional Neural Networks** and its application to image recognition.\n",
    "\n",
    "## Contents\n",
    "The structure of the notebook is as follows:\n",
    "* Training a convnet from scratch on a small dataset\n",
    "* Using a pre-trained convnet\n",
    "\n",
    "\n",
    "## Sources\n",
    "<!--BOOK_INFORMATION-->\n",
    "\n",
    "i) the [Keras tutorials](https://blog.keras.io/building-powerful-image-classification-models-using-very-little-data.html) by Francois Chollet.\n",
    "\n",
    "ii) Chapter 5, Section 3 of [Deep Learning with Python](https://www.manning.com/books/deep-learning-with-python?a_aid=keras&a_bid=76564dff) by Francois Chollet.\n",
    "\n",
    "iii) [Segmentations for Flower Image Datasets and Others](http://www.robots.ox.ac.uk/~vgg/data/bicos/) by  Yuning Chai, Victor Lempitsky and Andrew Zisserman.\n",
    "\n",
    "\n",
    "## Data structure\n",
    "\n",
    "'''This script goes along the blog post\n",
    "\"Building powerful image classification models using very little data\" from blog.keras.io.\n",
    "It uses data that can be downloaded at:\n",
    "http://www.robots.ox.ac.uk/~vgg/data/flowers/17/\n",
    "In our setup, we:\n",
    "- created a data/ folder\n",
    "- created train/ and validation/ subfolders inside data/\n",
    "- created flower1/, flower2/ and flower3/ subfolders inside train/ and validation/\n",
    "- put the pictures in each folder\n",
    "So that we have 100 training examples for each class, and 297 validation examples in total.\n",
    "In summary, this is our directory structure:\n",
    "```\n",
    "data/\n",
    "    train/\n",
    "        flower1/\n",
    "            image_00001.jpg            \n",
    "            ...\n",
    "        flower2/\n",
    "            image_00252.jpg            \n",
    "            ...\n",
    "        flower3/\n",
    "            image_00446.jpg            \n",
    "            ...\n",
    "    validation/\n",
    "        flower1/\n",
    "            image_00101.jpg            \n",
    "            ...\n",
    "        flower2/\n",
    "            image_00352.jpg            \n",
    "            ...\n",
    "        flower3/\n",
    "            image_00546.jpg            \n",
    "            ...\n",
    "```\n",
    "'''\n",
    "\n"
   ]
  },
  {
   "cell_type": "markdown",
   "metadata": {},
   "source": [
    "### 1. Using convnets with small datasets\n",
    "\n",
    "## Training a convnet from scratch on a small dataset\n",
    "\n",
    "Having to train an image classification model using only very little data is a common situation, which you likely encounter yourself in practice if you ever do computer vision in a professional context.\n",
    "\n",
    "Having \"few\" samples can mean anywhere from a few hundreds to a few tens of thousands of images. As a practical example, we will focus on classifying images as three species of flowers \"flower1\", \"flower2\" or \"flower3\", in a dataset containing only 597 pictures of all three species . We will use 300 pictures for training, 297 for validation.\n",
    "\n",
    "We will train a model from scratch on what little data we have. We will start by naively training a small convnet on our 300 training samples, without any regularization, to set a baseline for what can be achieved. This will get us to a classification accuracy of up to 85%. \n",
    "\n",
    "\n",
    "## Building our network\n",
    "\n",
    "Our convnet will be a stack of alternated `Conv2D` (with `relu` activation) and `MaxPooling2D` layers.\n",
    "\n",
    "Here, since we start from inputs of size 150x150 (a somewhat arbitrary choice), we end up with feature maps of size 17x17 right before the `Flatten` layer.\n",
    "\n",
    "Note that the depth of the feature maps is progressively increasing in the network (from 32 to 128), while the size of the feature maps is decreasing (from 148x148 to 17x17). This is a pattern that you will see in almost all convnets.\n",
    "\n",
    "Since we are attacking a binary classification problem, we are ending the network with a single unit (a `Dense` layer of size 3) and a `softmax` activation. This unit will encode the probability that the network is looking at one class or the others.\n"
   ]
  },
  {
   "cell_type": "code",
   "execution_count": 1,
   "metadata": {},
   "outputs": [
    {
     "name": "stderr",
     "output_type": "stream",
     "text": [
      "Using TensorFlow backend.\n"
     ]
    }
   ],
   "source": [
    "#Firt we define the data directories\n",
    "import os, shutil\n",
    "\n",
    "#Import the libraries\n",
    "from keras import layers\n",
    "from keras import models\n",
    "\n",
    "import numpy as np\n",
    "import matplotlib.pyplot as plt\n",
    "%matplotlib inline\n",
    "\n",
    "import os\n",
    "\n",
    "\n",
    "# The directory where we will store our dataset\n",
    "base_dir = './data'\n",
    "# Directories for our training and validation splits\n",
    "train_dir = os.path.join(base_dir, 'train')\n",
    "validation_dir = os.path.join(base_dir, 'validation')\n",
    "num_classes=3;\n",
    "\n",
    "#Declaration of the Neural Network model\n",
    "model = models.Sequential()\n",
    "model.add(layers.Conv2D(32, (3, 3), activation='relu',\n",
    "                        input_shape=(150, 150, 3)))\n",
    "model.add(layers.MaxPooling2D((2, 2)))\n",
    "model.add(layers.Conv2D(64, (3, 3), activation='relu'))\n",
    "model.add(layers.MaxPooling2D((2, 2)))\n",
    "model.add(layers.Conv2D(128, (3, 3), activation='relu'))\n",
    "model.add(layers.MaxPooling2D((2, 2)))\n",
    "model.add(layers.Flatten())\n",
    "model.add(layers.Dense(512, activation='relu'))\n",
    "model.add(layers.Dense(num_classes, activation='softmax'))\n",
    "\n",
    "\n"
   ]
  },
  {
   "cell_type": "markdown",
   "metadata": {},
   "source": [
    "Let's take a look at how the dimensions of the feature maps change with every successive layer:"
   ]
  },
  {
   "cell_type": "code",
   "execution_count": 2,
   "metadata": {},
   "outputs": [
    {
     "name": "stdout",
     "output_type": "stream",
     "text": [
      "_________________________________________________________________\n",
      "Layer (type)                 Output Shape              Param #   \n",
      "=================================================================\n",
      "conv2d_1 (Conv2D)            (None, 148, 148, 32)      896       \n",
      "_________________________________________________________________\n",
      "max_pooling2d_1 (MaxPooling2 (None, 74, 74, 32)        0         \n",
      "_________________________________________________________________\n",
      "conv2d_2 (Conv2D)            (None, 72, 72, 64)        18496     \n",
      "_________________________________________________________________\n",
      "max_pooling2d_2 (MaxPooling2 (None, 36, 36, 64)        0         \n",
      "_________________________________________________________________\n",
      "conv2d_3 (Conv2D)            (None, 34, 34, 128)       73856     \n",
      "_________________________________________________________________\n",
      "max_pooling2d_3 (MaxPooling2 (None, 17, 17, 128)       0         \n",
      "_________________________________________________________________\n",
      "flatten_1 (Flatten)          (None, 36992)             0         \n",
      "_________________________________________________________________\n",
      "dense_1 (Dense)              (None, 512)               18940416  \n",
      "_________________________________________________________________\n",
      "dense_2 (Dense)              (None, 3)                 1539      \n",
      "=================================================================\n",
      "Total params: 19,035,203\n",
      "Trainable params: 19,035,203\n",
      "Non-trainable params: 0\n",
      "_________________________________________________________________\n"
     ]
    }
   ],
   "source": [
    "model.summary()"
   ]
  },
  {
   "cell_type": "markdown",
   "metadata": {},
   "source": [
    "For our compilation step, we'll go with the `Adam` optimizer. We will use a categorical crossentropy as the loss which is the most apropiated in this case where we have a multi-class problem."
   ]
  },
  {
   "cell_type": "code",
   "execution_count": 3,
   "metadata": {},
   "outputs": [],
   "source": [
    "from keras import optimizers\n",
    "\n",
    "#We have to specify the optimizer employed to train the classifier. We will use a Adam with learning rate equal to 2e-4 and a loss function based on categorical crossentropy\n",
    "#The parameter metric define the performance metric employed to evaluate the classifier\n",
    "model.compile(loss='categorical_crossentropy',\n",
    "              optimizer=optimizers.adam(lr=2e-4),\n",
    "              metrics=['acc'])"
   ]
  },
  {
   "cell_type": "markdown",
   "metadata": {},
   "source": [
    "## Data preprocessing\n",
    "\n",
    "Data should be formatted into appropriately pre-processed floating point tensors before being fed into our \n",
    "network. Currently, our data sits on a drive as JPEG files, so the steps for getting it into our network are roughly:\n",
    "\n",
    "* Read the picture files.\n",
    "* Decode the JPEG content to RBG grids of pixels.\n",
    "* Convert these into floating point tensors.\n",
    "* Rescale the pixel values (between 0 and 255) to the [0, 1] interval (as you know, neural networks prefer to deal with small input values).\n",
    "\n",
    "It may seem a bit daunting, but thankfully Keras has utilities to take care of these steps automatically. Keras has a module with image \n",
    "processing helper tools, located at `keras.preprocessing.image`. In particular, it contains the class `ImageDataGenerator` which allows to \n",
    "quickly set up Python generators that can automatically turn image files on disk into batches of pre-processed tensors. This is what we \n",
    "will use here."
   ]
  },
  {
   "cell_type": "code",
   "execution_count": 4,
   "metadata": {},
   "outputs": [
    {
     "name": "stdout",
     "output_type": "stream",
     "text": [
      "Found 300 images belonging to 3 classes.\n",
      "Found 297 images belonging to 3 classes.\n"
     ]
    }
   ],
   "source": [
    "from keras.preprocessing.image import ImageDataGenerator\n",
    "\n",
    "# All images will be rescaled by 1./255\n",
    "train_datagen = ImageDataGenerator(rescale=1./255)\n",
    "test_datagen = ImageDataGenerator(rescale=1./255)\n",
    "\n",
    "#batch_size determines the number of images employed during the training for each gradient update (related to the weight optimization)\n",
    "batch_size=10;\n",
    "\n",
    "train_generator = train_datagen.flow_from_directory(\n",
    "        # This is the target directory\n",
    "        train_dir,\n",
    "        # All images will be resized to 150x150\n",
    "        target_size=(150, 150),\n",
    "        batch_size=batch_size,\n",
    "        class_mode='categorical') #as we have a multi class classification\n",
    "\n",
    "validation_generator = test_datagen.flow_from_directory(\n",
    "        validation_dir,\n",
    "        target_size=(150, 150),\n",
    "        batch_size=batch_size,\n",
    "        class_mode='categorical')"
   ]
  },
  {
   "cell_type": "markdown",
   "metadata": {},
   "source": [
    "Let's fit our model to the data using the generator. We do it using the `fit_generator` method, the equivalent of `fit` for data generators \n",
    "like ours. It expects as first argument a Python generator that will yield batches of inputs and targets indefinitely, like ours does. \n",
    "Because the data is being generated endlessly, the generator needs to know example how many samples to draw from the generator before \n",
    "declaring an epoch over. This is the role of the `steps_per_epoch` argument: after having drawn `steps_per_epoch` batches from the \n",
    "generator, i.e. after having run for `steps_per_epoch` gradient descent steps, the fitting process will go to the next epoch. In our case, batches are 10-sample large, so it will take 30 batches until we see our target of 300 samples.\n",
    "\n",
    "When using `fit_generator`, one may pass a `validation_data` argument, much like with the `fit` method. "
   ]
  },
  {
   "cell_type": "code",
   "execution_count": 5,
   "metadata": {},
   "outputs": [
    {
     "name": "stdout",
     "output_type": "stream",
     "text": [
      "Epoch 1/15\n",
      "30/30 [==============================] - 8s 282ms/step - loss: 0.9039 - acc: 0.5667 - val_loss: 0.6276 - val_acc: 0.8215\n",
      "Epoch 2/15\n",
      "30/30 [==============================] - 1s 45ms/step - loss: 0.5159 - acc: 0.8167 - val_loss: 0.3152 - val_acc: 0.8956\n",
      "Epoch 3/15\n",
      "30/30 [==============================] - 1s 46ms/step - loss: 0.2416 - acc: 0.9200 - val_loss: 0.2542 - val_acc: 0.8956\n",
      "Epoch 4/15\n",
      "30/30 [==============================] - 1s 45ms/step - loss: 0.1057 - acc: 0.9667 - val_loss: 0.1313 - val_acc: 0.9529\n",
      "Epoch 5/15\n",
      "30/30 [==============================] - 1s 45ms/step - loss: 0.0582 - acc: 0.9867 - val_loss: 0.1665 - val_acc: 0.9428\n",
      "Epoch 6/15\n",
      "30/30 [==============================] - 1s 45ms/step - loss: 0.0344 - acc: 0.9900 - val_loss: 0.1974 - val_acc: 0.9192\n",
      "Epoch 7/15\n",
      "30/30 [==============================] - 1s 45ms/step - loss: 0.0155 - acc: 0.9967 - val_loss: 0.1254 - val_acc: 0.9596\n",
      "Epoch 8/15\n",
      "30/30 [==============================] - 1s 45ms/step - loss: 0.0053 - acc: 1.0000 - val_loss: 0.1481 - val_acc: 0.9495\n",
      "Epoch 9/15\n",
      "30/30 [==============================] - 1s 45ms/step - loss: 0.0038 - acc: 1.0000 - val_loss: 0.1145 - val_acc: 0.9495\n",
      "Epoch 10/15\n",
      "30/30 [==============================] - 1s 45ms/step - loss: 0.0024 - acc: 1.0000 - val_loss: 0.1114 - val_acc: 0.9663\n",
      "Epoch 11/15\n",
      "30/30 [==============================] - 1s 45ms/step - loss: 0.0017 - acc: 1.0000 - val_loss: 0.1683 - val_acc: 0.9394\n",
      "Epoch 12/15\n",
      "30/30 [==============================] - 1s 46ms/step - loss: 0.0012 - acc: 1.0000 - val_loss: 0.1640 - val_acc: 0.9394\n",
      "Epoch 13/15\n",
      "30/30 [==============================] - 1s 45ms/step - loss: 9.7204e-04 - acc: 1.0000 - val_loss: 0.0892 - val_acc: 0.9731\n",
      "Epoch 14/15\n",
      "30/30 [==============================] - 1s 45ms/step - loss: 7.8221e-04 - acc: 1.0000 - val_loss: 0.1863 - val_acc: 0.9226\n",
      "Epoch 15/15\n",
      "30/30 [==============================] - 1s 46ms/step - loss: 7.3811e-04 - acc: 1.0000 - val_loss: 0.0881 - val_acc: 0.9697\n"
     ]
    }
   ],
   "source": [
    "history = model.fit_generator(\n",
    "      train_generator,\n",
    "      steps_per_epoch=30,\n",
    "      epochs=15,\n",
    "      validation_data=validation_generator,\n",
    "      validation_steps=30)"
   ]
  },
  {
   "cell_type": "markdown",
   "metadata": {},
   "source": [
    "Let's plot the loss and accuracy of the model over the training and validation data during training:"
   ]
  },
  {
   "cell_type": "code",
   "execution_count": 6,
   "metadata": {},
   "outputs": [
    {
     "data": {
      "image/png": "[encoded data removed]",
      "text/plain": [
       "<Figure size 432x288 with 1 Axes>"
      ]
     },
     "metadata": {
      "needs_background": "light"
     },
     "output_type": "display_data"
    },
    {
     "data": {
      "image/png": "[encoded data removed]",
      "text/plain": [
       "<Figure size 432x288 with 1 Axes>"
      ]
     },
     "metadata": {
      "needs_background": "light"
     },
     "output_type": "display_data"
    }
   ],
   "source": [
    "%matplotlib inline\n",
    "import numpy as np\n",
    "import pandas as pd\n",
    "import matplotlib.pyplot as plt\n",
    "\n",
    "#Obtain the accuracy and loss data\n",
    "acc = history.history['acc']\n",
    "val_acc = history.history['val_acc']\n",
    "loss = history.history['loss']\n",
    "val_loss = history.history['val_loss']\n",
    "\n",
    "epochs = range(len(acc))\n",
    "\n",
    "#Plot the accuracy\n",
    "plt.plot(epochs, acc, 'bo', label='Training acc')\n",
    "plt.plot(epochs, val_acc, 'b', label='Validation acc')\n",
    "plt.title('Training and validation accuracy')\n",
    "plt.legend()\n",
    "\n",
    "plt.figure()\n",
    "\n",
    "#Plot the loss\n",
    "plt.plot(epochs, loss, 'bo', label='Training loss')\n",
    "plt.plot(epochs, val_loss, 'b', label='Validation loss')\n",
    "plt.title('Training and validation loss')\n",
    "plt.legend()\n",
    "\n",
    "plt.show()"
   ]
  },
  {
   "cell_type": "markdown",
   "metadata": {},
   "source": [
    "Not bad. The results obtained are quite good. Let's see if we can improve it using a pre-trained network"
   ]
  },
  {
   "cell_type": "markdown",
   "metadata": {},
   "source": [
    "# 2. Using a pre-trained convnet\n",
    "\n",
    "In this notebook, we will consider a large convnet trained on the ImageNet dataset (1.4 million labeled images and 1000 different classes). Labels available here: https://gist.github.com/yrevar/942d3a0ac09ec9e5eb3a.\n",
    "ImageNet contains many flower class, including different species classified by only one tag=flower.  \n",
    "\n",
    "We will use the VGG16 architecture, developed by Karen Simonyan and Andrew Zisserman in 2014, a simple and widely used convnet architecture for ImageNet. Although it is a bit of an older model, far from the current state of the art and somewhat heavier than many other recent models, we chose it because its architecture is similar to what you are already familiar with, and easy to understand without introducing any new concepts.Other popular models available are: VGG, ResNet, Inception, Inception-ResNet, \n",
    "Xception...\n",
    "\n",
    "There are two ways to leverage a pre-trained network: *feature extraction* and *fine-tuning*. We will cover only *feature extraction* but you will find a similar code for *fine-tuning* at https://github.com/fchollet/deep-learning-with-python-notebooks/blob/master/first_edition/5.3-using-a-pretrained-convnet.ipynb. Let's start with feature extraction."
   ]
  },
  {
   "cell_type": "markdown",
   "metadata": {},
   "source": [
    "## Feature extraction\n",
    "\n",
    "Feature extraction consists of using the representations learned by a previous network to extract interesting features from new samples. These features are then run through a new classifier, which is trained from scratch.\n",
    "\n",
    "Convnets used for image classification comprise two parts: they start with a series of pooling and convolution \n",
    "layers, and they end with a densely-connected classifier. The first part is called the \"convolutional base\" of the model. In the case of  convnets, \"feature extraction\" will simply consist of taking the convolutional base of a previously-trained network, running the new data through it, and training a new classifier on top of the output.\n",
    "\n",
    "![feature_extraction](./feature_extraction.png)\n",
    "\n",
    "Why only reuse the convolutional base? Could we reuse the densely-connected classifier as well? In general, it should be avoided. The reason is simply that the representations learned by the convolutional base are likely to be more generic and therefore more reusable.\n",
    "\n",
    "Note that the level of generality (and therefore reusability) of the representations extracted by specific convolution layers depends on the depth of the layer in the model. Layers that come earlier in the model extract local, highly generic feature maps (such as visual edges, colors, and textures), while layers higher-up extract more abstract concepts (such as \"petal shape\" or \"stem width\"). So if your new dataset differs a lot from the dataset that the original model was trained on, you may be better off using only the first few layers of the model to do feature extraction, rather than using the entire convolutional base.\n",
    "\n",
    "In our case, since the ImageNet class set did contain flower images, it is likely that it would be beneficial to reuse the information contained in the densely-connected layers of the original model. However, we will chose not to, in order to cover the more general case where the class set of the new problem does not overlap with the class set of the original model."
   ]
  },
  {
   "cell_type": "markdown",
   "metadata": {},
   "source": [
    "Let's put this in practice by using the convolutional base of the VGG16 network, trained on ImageNet, to extract interesting features from \n",
    "our cat and dog images, and then training a cat vs. dog classifier on top of these features.\n",
    "\n",
    "The VGG16 model, among others, comes pre-packaged with Keras. You can import it from the `keras.applications` module. Let's instantiate the VGG16 model:"
   ]
  },
  {
   "cell_type": "code",
   "execution_count": 7,
   "metadata": {},
   "outputs": [],
   "source": [
    "import keras\n",
    "keras.__version__\n",
    "\n",
    "from keras.applications import VGG16\n",
    "\n",
    "conv_base = VGG16(weights='imagenet',\n",
    "                  include_top=False,\n",
    "                  input_shape=(150, 150, 3))"
   ]
  },
  {
   "cell_type": "markdown",
   "metadata": {},
   "source": [
    "We passed three arguments to the constructor:\n",
    "\n",
    "* `weights`, to specify which weight checkpoint to initialize the model from\n",
    "* `include_top`, which refers to including or not the densely-connected classifier on top of the network. By default, this \n",
    "densely-connected classifier would correspond to the 1000 classes from ImageNet. Since we intend to use our own densely-connected classifier (with only three classes), we don't need to include it.\n",
    "* `input_shape`, the shape of the image tensors that we will feed to the network. This argument is purely optional: if we don't pass it, then the network will be able to process inputs of any size.\n",
    "\n",
    "Here's the detail of the architecture of the VGG16 convolutional base: it's very similar to the simple convnets that you are already familiar with."
   ]
  },
  {
   "cell_type": "code",
   "execution_count": 8,
   "metadata": {},
   "outputs": [
    {
     "name": "stdout",
     "output_type": "stream",
     "text": [
      "_________________________________________________________________\n",
      "Layer (type)                 Output Shape              Param #   \n",
      "=================================================================\n",
      "input_1 (InputLayer)         (None, 150, 150, 3)       0         \n",
      "_________________________________________________________________\n",
      "block1_conv1 (Conv2D)        (None, 150, 150, 64)      1792      \n",
      "_________________________________________________________________\n",
      "block1_conv2 (Conv2D)        (None, 150, 150, 64)      36928     \n",
      "_________________________________________________________________\n",
      "block1_pool (MaxPooling2D)   (None, 75, 75, 64)        0         \n",
      "_________________________________________________________________\n",
      "block2_conv1 (Conv2D)        (None, 75, 75, 128)       73856     \n",
      "_________________________________________________________________\n",
      "block2_conv2 (Conv2D)        (None, 75, 75, 128)       147584    \n",
      "_________________________________________________________________\n",
      "block2_pool (MaxPooling2D)   (None, 37, 37, 128)       0         \n",
      "_________________________________________________________________\n",
      "block3_conv1 (Conv2D)        (None, 37, 37, 256)       295168    \n",
      "_________________________________________________________________\n",
      "block3_conv2 (Conv2D)        (None, 37, 37, 256)       590080    \n",
      "_________________________________________________________________\n",
      "block3_conv3 (Conv2D)        (None, 37, 37, 256)       590080    \n",
      "_________________________________________________________________\n",
      "block3_pool (MaxPooling2D)   (None, 18, 18, 256)       0         \n",
      "_________________________________________________________________\n",
      "block4_conv1 (Conv2D)        (None, 18, 18, 512)       1180160   \n",
      "_________________________________________________________________\n",
      "block4_conv2 (Conv2D)        (None, 18, 18, 512)       2359808   \n",
      "_________________________________________________________________\n",
      "block4_conv3 (Conv2D)        (None, 18, 18, 512)       2359808   \n",
      "_________________________________________________________________\n",
      "block4_pool (MaxPooling2D)   (None, 9, 9, 512)         0         \n",
      "_________________________________________________________________\n",
      "block5_conv1 (Conv2D)        (None, 9, 9, 512)         2359808   \n",
      "_________________________________________________________________\n",
      "block5_conv2 (Conv2D)        (None, 9, 9, 512)         2359808   \n",
      "_________________________________________________________________\n",
      "block5_conv3 (Conv2D)        (None, 9, 9, 512)         2359808   \n",
      "_________________________________________________________________\n",
      "block5_pool (MaxPooling2D)   (None, 4, 4, 512)         0         \n",
      "=================================================================\n",
      "Total params: 14,714,688\n",
      "Trainable params: 14,714,688\n",
      "Non-trainable params: 0\n",
      "_________________________________________________________________\n"
     ]
    }
   ],
   "source": [
    "conv_base.summary()"
   ]
  },
  {
   "cell_type": "markdown",
   "metadata": {},
   "source": [
    "The final feature map has shape `(4, 4, 512)`. That's the feature on top of which we will stick a densely-connected classifier.\n",
    "\n",
    "At this point, there are two ways we could proceed: \n",
    "\n",
    "* Running the convolutional base over our dataset, recording its output to a Numpy array on disk, then using this data as input to a \n",
    "standalone densely-connected classifier. This solution is very fast and \n",
    "cheap to run, because it only requires running the convolutional base once for every input image, and the convolutional base is by far the \n",
    "most expensive part of the pipeline. However, for the exact same reason, this technique would not allow us to leverage data augmentation at \n",
    "all.\n",
    "* Extending the model we have (`conv_base`) by adding `Dense` layers on top, and running the whole thing end-to-end on the input data. This \n",
    "allows us to use data augmentation, because every input image is going through the convolutional base every time it is seen by the model. \n",
    "However, for this same reason, this technique is far more expensive than the first one.\n",
    "\n",
    "We will the first technique. Let's walk through the code required to set-up the first one: recording the output of `conv_base` on our data and using these outputs as inputs to a new model.\n",
    "\n",
    "We will start by simply running instances of `ImageDataGenerator` to extract images as Numpy arrays as well as \n",
    "their labels. We will extract features from these images simply by calling the `predict` method of the `conv_base` model."
   ]
  },
  {
   "cell_type": "code",
   "execution_count": 9,
   "metadata": {},
   "outputs": [
    {
     "name": "stdout",
     "output_type": "stream",
     "text": [
      "Found 300 images belonging to 3 classes.\n",
      "Found 297 images belonging to 3 classes.\n"
     ]
    }
   ],
   "source": [
    "import os\n",
    "import numpy as np\n",
    "from keras.preprocessing.image import ImageDataGenerator\n",
    "import sys\n",
    "\n",
    "\n",
    "#Folder to include /train /validation and /test dataset. \n",
    "base_dir = './data'\n",
    "train_dir = os.path.join(base_dir, 'train')\n",
    "validation_dir = os.path.join(base_dir, 'validation')\n",
    "test_dir = os.path.join(base_dir, 'test')\n",
    "\n",
    "#ImageDataGenerator is a Keras function to process images. In this case we will apply a simple normalization to all images.\n",
    "datagen = ImageDataGenerator(rescale=1./255)\n",
    "\n",
    "\n",
    "\n",
    "\n",
    "def extract_features(datagen,conv_base,directory, sample_count,batch_size,num_classes):\n",
    "    \n",
    "    features = np.zeros(shape=(sample_count, 4, 4, 512))\n",
    "    labels = np.zeros(shape=(sample_count,num_classes))\n",
    "    generator = datagen.flow_from_directory(\n",
    "        directory,\n",
    "        target_size=(150, 150),\n",
    "        batch_size=batch_size,\n",
    "        class_mode='categorical')\n",
    "    i = 0\n",
    "    for inputs_batch, labels_batch in generator:\n",
    "        features_batch = conv_base.predict(inputs_batch)\n",
    "        features[i * batch_size : (i + 1) * batch_size,:] = features_batch\n",
    "        labels[i * batch_size : (i + 1) * batch_size,:] = labels_batch\n",
    "        i += 1\n",
    "        if i * batch_size >= sample_count:\n",
    "            # Note that since generators yield data indefinitely in a loop,\n",
    "            # we must `break` after every image has been seen once.\n",
    "            break\n",
    "    return features, labels\n",
    "\n",
    "\n",
    "\n",
    "#Extract the features from each image using the conv base as a feature extraction.\n",
    "train_features, train_labels = extract_features(datagen,conv_base,train_dir, 300, batch_size,num_classes)\n",
    "validation_features, validation_labels = extract_features(datagen,conv_base,validation_dir, 297, batch_size,num_classes)"
   ]
  },
  {
   "cell_type": "markdown",
   "metadata": {},
   "source": [
    "The extracted features are currently of shape `(samples, 4, 4, 512)`. We will feed them to a densely-connected classifier, so first we must \n",
    "flatten them to `(samples, 8192)`:"
   ]
  },
  {
   "cell_type": "code",
   "execution_count": 10,
   "metadata": {},
   "outputs": [],
   "source": [
    "#We have to reshape the features to feed the densely-connected classifier\n",
    "train_features = np.reshape(train_features, (300, 4 * 4 * 512))\n",
    "validation_features = np.reshape(validation_features, (297, 4 * 4 * 512))"
   ]
  },
  {
   "cell_type": "markdown",
   "metadata": {},
   "source": [
    "At this point, we can define our densely-connected classifier (note the use of dropout for regularization), and train it on the data and \n",
    "labels that we just recorded:"
   ]
  },
  {
   "cell_type": "code",
   "execution_count": 11,
   "metadata": {},
   "outputs": [
    {
     "name": "stdout",
     "output_type": "stream",
     "text": [
      "Train on 300 samples, validate on 297 samples\n",
      "Epoch 1/25\n",
      "300/300 [==============================] - 1s 2ms/step - loss: 1.1385 - acc: 0.4000 - val_loss: 0.7508 - val_acc: 0.8283\n",
      "Epoch 2/25\n",
      "300/300 [==============================] - 0s 614us/step - loss: 0.8229 - acc: 0.6300 - val_loss: 0.5918 - val_acc: 0.8923\n",
      "Epoch 3/25\n",
      "300/300 [==============================] - 0s 619us/step - loss: 0.6139 - acc: 0.7767 - val_loss: 0.4720 - val_acc: 0.9259\n",
      "Epoch 4/25\n",
      "300/300 [==============================] - 0s 613us/step - loss: 0.5100 - acc: 0.8233 - val_loss: 0.4026 - val_acc: 0.9428\n",
      "Epoch 5/25\n",
      "300/300 [==============================] - 0s 614us/step - loss: 0.4405 - acc: 0.8400 - val_loss: 0.3410 - val_acc: 0.9630\n",
      "Epoch 6/25\n",
      "300/300 [==============================] - 0s 623us/step - loss: 0.3699 - acc: 0.8900 - val_loss: 0.3227 - val_acc: 0.9562\n",
      "Epoch 7/25\n",
      "300/300 [==============================] - 0s 626us/step - loss: 0.3059 - acc: 0.9067 - val_loss: 0.2800 - val_acc: 0.9630\n",
      "Epoch 8/25\n",
      "300/300 [==============================] - 0s 613us/step - loss: 0.2636 - acc: 0.9367 - val_loss: 0.2685 - val_acc: 0.9562\n",
      "Epoch 9/25\n",
      "300/300 [==============================] - 0s 623us/step - loss: 0.2341 - acc: 0.9367 - val_loss: 0.2370 - val_acc: 0.9630\n",
      "Epoch 10/25\n",
      "300/300 [==============================] - 0s 623us/step - loss: 0.2036 - acc: 0.9533 - val_loss: 0.2070 - val_acc: 0.9798\n",
      "Epoch 11/25\n",
      "300/300 [==============================] - 0s 623us/step - loss: 0.2095 - acc: 0.9433 - val_loss: 0.2089 - val_acc: 0.9630\n",
      "Epoch 12/25\n",
      "300/300 [==============================] - 0s 615us/step - loss: 0.1629 - acc: 0.9700 - val_loss: 0.1848 - val_acc: 0.9731\n",
      "Epoch 13/25\n",
      "300/300 [==============================] - 0s 613us/step - loss: 0.1431 - acc: 0.9733 - val_loss: 0.1785 - val_acc: 0.9697\n",
      "Epoch 14/25\n",
      "300/300 [==============================] - 0s 617us/step - loss: 0.1560 - acc: 0.9567 - val_loss: 0.1685 - val_acc: 0.9697\n",
      "Epoch 15/25\n",
      "300/300 [==============================] - 0s 622us/step - loss: 0.1276 - acc: 0.9767 - val_loss: 0.1621 - val_acc: 0.9731\n",
      "Epoch 16/25\n",
      "300/300 [==============================] - 0s 623us/step - loss: 0.1044 - acc: 0.9867 - val_loss: 0.1663 - val_acc: 0.9663\n",
      "Epoch 17/25\n",
      "300/300 [==============================] - 0s 609us/step - loss: 0.1175 - acc: 0.9767 - val_loss: 0.1490 - val_acc: 0.9697\n",
      "Epoch 18/25\n",
      "300/300 [==============================] - 0s 606us/step - loss: 0.1033 - acc: 0.9833 - val_loss: 0.1388 - val_acc: 0.9798\n",
      "Epoch 19/25\n",
      "300/300 [==============================] - 0s 616us/step - loss: 0.0967 - acc: 0.9867 - val_loss: 0.1444 - val_acc: 0.9663\n",
      "Epoch 20/25\n",
      "300/300 [==============================] - 0s 630us/step - loss: 0.0923 - acc: 0.9933 - val_loss: 0.1314 - val_acc: 0.9798\n",
      "Epoch 21/25\n",
      "300/300 [==============================] - 0s 613us/step - loss: 0.0852 - acc: 0.9933 - val_loss: 0.1359 - val_acc: 0.9663\n",
      "Epoch 22/25\n",
      "300/300 [==============================] - 0s 613us/step - loss: 0.0777 - acc: 0.9933 - val_loss: 0.1261 - val_acc: 0.9731\n",
      "Epoch 23/25\n",
      "300/300 [==============================] - 0s 611us/step - loss: 0.0768 - acc: 0.9933 - val_loss: 0.1252 - val_acc: 0.9731\n",
      "Epoch 24/25\n",
      "300/300 [==============================] - 0s 613us/step - loss: 0.0776 - acc: 0.9900 - val_loss: 0.1226 - val_acc: 0.9731\n",
      "Epoch 25/25\n",
      "300/300 [==============================] - 0s 618us/step - loss: 0.0644 - acc: 0.9933 - val_loss: 0.1147 - val_acc: 0.9731\n"
     ]
    }
   ],
   "source": [
    "# Declaration of a densely-connected classifier with one hidden layer with 512 units and an output layer with 3 units\n",
    "model = models.Sequential()\n",
    "model.add(layers.Dense(512, activation='relu', input_dim=4 * 4 * 512))\n",
    "model.add(layers.Dropout(0.5))\n",
    "model.add(layers.Dense(num_classes, activation='softmax'))\n",
    "\n",
    "\n",
    "model.compile(optimizer=optimizers.adam(lr=1e-5),\n",
    "              loss='categorical_crossentropy',\n",
    "              metrics=['acc'])\n",
    "\n",
    "#The funtion fit is used to train our classifier based on the features extracted.  We have to specify training data, number of epochs, batch size and validation data\n",
    "history = model.fit(train_features, train_labels,\n",
    "                    epochs=25,\n",
    "                    batch_size=batch_size,\n",
    "                    validation_data=(validation_features, validation_labels))"
   ]
  },
  {
   "cell_type": "markdown",
   "metadata": {},
   "source": [
    "Training is very fast, since we only have to deal with two `Dense` layers -- an epoch takes less than one second even on CPU.\n",
    "\n",
    "Let's take a look at the loss and accuracy curves during training:"
   ]
  },
  {
   "cell_type": "code",
   "execution_count": 12,
   "metadata": {},
   "outputs": [
    {
     "data": {
      "image/png": "[encoded data removed]",
      "text/plain": [
       "<Figure size 432x288 with 1 Axes>"
      ]
     },
     "metadata": {
      "needs_background": "light"
     },
     "output_type": "display_data"
    },
    {
     "data": {
      "image/png": "[encoded data removed]",
      "text/plain": [
       "<Figure size 432x288 with 1 Axes>"
      ]
     },
     "metadata": {
      "needs_background": "light"
     },
     "output_type": "display_data"
    }
   ],
   "source": [
    "import matplotlib.pyplot as plt\n",
    "\n",
    "#Obtain the accuracy and loss data\n",
    "acc = history.history['acc']\n",
    "val_acc = history.history['val_acc']\n",
    "loss = history.history['loss']\n",
    "val_loss = history.history['val_loss']\n",
    "\n",
    "epochs = range(len(acc))\n",
    "\n",
    "#Plot the accuracy\n",
    "plt.plot(epochs, acc, 'bo', label='Training acc')\n",
    "plt.plot(epochs, val_acc, 'b', label='Validation acc')\n",
    "plt.title('Training and validation accuracy')\n",
    "plt.legend()\n",
    "\n",
    "plt.figure()\n",
    "\n",
    "#Plot the loss\n",
    "plt.plot(epochs, loss, 'bo', label='Training loss')\n",
    "plt.plot(epochs, val_loss, 'b', label='Validation loss')\n",
    "plt.title('Training and validation loss')\n",
    "plt.legend()\n",
    "\n",
    "plt.show()"
   ]
  },
  {
   "cell_type": "markdown",
   "metadata": {},
   "source": [
    "As you can see, we reach a validation accuracy of about 97%. "
   ]
  },
  {
   "cell_type": "code",
   "execution_count": null,
   "metadata": {
    "collapsed": true
   },
   "outputs": [],
   "source": []
  }
 ],
 "metadata": {
  "kernelspec": {
   "display_name": "Python 3",
   "language": "python",
   "name": "python3"
  },
  "language_info": {
   "codemirror_mode": {
    "name": "ipython",
    "version": 3
   },
   "file_extension": ".py",
   "mimetype": "text/x-python",
   "name": "python",
   "nbconvert_exporter": "python",
   "pygments_lexer": "ipython3",
   "version": "3.5.6"
  }
 },
 "nbformat": 4,
 "nbformat_minor": 2
}
